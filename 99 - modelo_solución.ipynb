{
  "cells": [
    {
      "cell_type": "markdown",
      "metadata": {
        "id": "view-in-github"
      },
      "source": [
        "<a href=\"https://colab.research.google.com/github/sren97/Proyecto-Modelos/blob/main/99%20-%20modelo%20soluci%C3%B3n.ipynb\" target=\"_parent\"><img src=\"https://colab.research.google.com/assets/colab-badge.svg\" alt=\"Open In Colab\"/></a>"
      ]
    },
    {
      "cell_type": "code",
      "execution_count": null,
      "metadata": {
        "id": "rFj6sRBfSeqz"
      },
      "outputs": [],
      "source": [
        "import pandas as pd\n",
        "import seaborn as sns\n",
        "import numpy as np\n",
        "import matplotlib.pyplot as plt\n",
        "import os"
      ]
    },
    {
      "cell_type": "code",
      "source": [],
      "metadata": {
        "id": "G8zqOZGVuhWZ"
      },
      "execution_count": null,
      "outputs": []
    },
    {
      "cell_type": "markdown",
      "metadata": {
        "id": "XIo59no_fTMg"
      },
      "source": [
        "# **Interacción con los Archivos**"
      ]
    },
    {
      "cell_type": "markdown",
      "metadata": {
        "id": "HDWJak8d1VV6"
      },
      "source": [
        "## **Descargar archivos CSV**\n",
        "\n",
        "Con este código se descargan los archivos directamente desde la plataforma Kaggle mediante la API"
      ]
    },
    {
      "cell_type": "code",
      "execution_count": null,
      "metadata": {
        "colab": {
          "base_uri": "https://localhost:8080/"
        },
        "id": "z6MwmQHcOMwz",
        "outputId": "3f93e305-dce3-4e59-a142-e174638af528"
      },
      "outputs": [
        {
          "output_type": "stream",
          "name": "stdout",
          "text": [
            "udea-ai-4-eng-20251-pruebas-saber-pro-colombia.zip: Skipping, found more recently modified local copy (use --force to force download)\n"
          ]
        }
      ],
      "source": [
        "os.environ['KAGGLE_CONFIG_DIR'] = '.'\n",
        "!chmod 600 ./kaggle.json\n",
        "!kaggle competitions download -c udea-ai-4-eng-20251-pruebas-saber-pro-colombia"
      ]
    },
    {
      "cell_type": "markdown",
      "metadata": {
        "id": "gexsxEEe2hBD"
      },
      "source": [
        "## **Descomprimir los archivos**"
      ]
    },
    {
      "cell_type": "code",
      "execution_count": null,
      "metadata": {
        "id": "k0B74ElXQj3K",
        "colab": {
          "base_uri": "https://localhost:8080/"
        },
        "outputId": "2b7553fc-48cc-4c1d-ea6f-c15afc471819"
      },
      "outputs": [
        {
          "output_type": "stream",
          "name": "stdout",
          "text": [
            "replace submission_example.csv? [y]es, [n]o, [A]ll, [N]one, [r]ename: y\n",
            "replace test.csv? [y]es, [n]o, [A]ll, [N]one, [r]ename: y\n",
            "replace train.csv? [y]es, [n]o, [A]ll, [N]one, [r]ename: y\n"
          ]
        }
      ],
      "source": [
        "!unzip udea*.zip > /dev/null"
      ]
    },
    {
      "cell_type": "code",
      "execution_count": null,
      "metadata": {
        "colab": {
          "base_uri": "https://localhost:8080/"
        },
        "id": "crXHXO_4QlDZ",
        "outputId": "1bb9a9d8-bf29-4770-e537-c2b04dc4eff3"
      },
      "outputs": [
        {
          "output_type": "stream",
          "name": "stdout",
          "text": [
            "   296787    296787   4716673 submission_example.csv\n",
            "   296787   4565553  59185250 test.csv\n",
            "   692501  10666231 143732449 train.csv\n",
            "  1286075  15528571 207634372 total\n"
          ]
        }
      ],
      "source": [
        "!wc *.csv"
      ]
    },
    {
      "cell_type": "markdown",
      "metadata": {
        "id": "0gxSYAtdCdli"
      },
      "source": [
        "#**Cargar archivos como Dataframes**"
      ]
    },
    {
      "cell_type": "code",
      "execution_count": null,
      "metadata": {
        "id": "YMTXqq2CQvBy"
      },
      "outputs": [],
      "source": [
        "train_df = pd.read_csv('train.csv')\n",
        "test_df = pd.read_csv('test.csv')\n",
        "auxiliar_df = train_df.copy()"
      ]
    },
    {
      "cell_type": "markdown",
      "metadata": {
        "id": "ZrpICQLg5PzS"
      },
      "source": [
        "\n",
        "\n",
        "# **Limpieza de Datos**\n"
      ]
    },
    {
      "cell_type": "markdown",
      "metadata": {
        "id": "Bz_moOcjarYy"
      },
      "source": [
        "## **Funciones de Limpieza**"
      ]
    },
    {
      "cell_type": "markdown",
      "metadata": {
        "id": "_ES11NQExBaY"
      },
      "source": [
        "### **Rendimiento Global**"
      ]
    },
    {
      "cell_type": "code",
      "execution_count": null,
      "metadata": {
        "id": "HGlrCMXyxEjL"
      },
      "outputs": [],
      "source": [
        "def rendimientoglobal(df):\n",
        "  map_dict = {\n",
        "    \"alto\":3,\n",
        "    \"medio-alto\":2,\n",
        "    \"medio-bajo\":1,\n",
        "    \"bajo\": 0\n",
        "  }\n",
        "  df['RENDIMIENTO_GLOBAL'] = df['RENDIMIENTO_GLOBAL'].map(map_dict)"
      ]
    },
    {
      "cell_type": "code",
      "source": [
        "print(train_df[\"RENDIMIENTO_GLOBAL\"].head(10))\n",
        "\n",
        "\n"
      ],
      "metadata": {
        "colab": {
          "base_uri": "https://localhost:8080/"
        },
        "id": "Aqsxa6nOqHXa",
        "outputId": "19632903-a1cc-4a88-b8b8-44a031ae017e"
      },
      "execution_count": null,
      "outputs": [
        {
          "output_type": "stream",
          "name": "stdout",
          "text": [
            "0    medio-alto\n",
            "1          bajo\n",
            "2          bajo\n",
            "3          alto\n",
            "4    medio-bajo\n",
            "5    medio-alto\n",
            "6          alto\n",
            "7    medio-bajo\n",
            "8    medio-bajo\n",
            "9          alto\n",
            "Name: RENDIMIENTO_GLOBAL, dtype: object\n"
          ]
        }
      ]
    },
    {
      "cell_type": "markdown",
      "metadata": {
        "id": "q-uV-RDXcUgC"
      },
      "source": [
        "### **Rendimiento Global Reverso**"
      ]
    },
    {
      "cell_type": "code",
      "execution_count": null,
      "metadata": {
        "id": "7_l39MTtdF21"
      },
      "outputs": [],
      "source": [
        "def rendimientoglobalreverse(df):\n",
        "  df['RENDIMIENTO_GLOBAL'] = df['RENDIMIENTO_GLOBAL'].round().astype(int)\n",
        "  map_dict = {\n",
        "    3:\"alto\",\n",
        "    2:\"medio-alto\",\n",
        "    1:\"medio-bajo\",\n",
        "    0:\"bajo\"\n",
        "  }\n",
        "  df['RENDIMIENTO_GLOBAL'] = df['RENDIMIENTO_GLOBAL'].map(map_dict)"
      ]
    },
    {
      "cell_type": "markdown",
      "metadata": {
        "id": "MAI_bdbr5iSZ"
      },
      "source": [
        "### **Estrato**"
      ]
    },
    {
      "cell_type": "code",
      "execution_count": null,
      "metadata": {
        "id": "oSgEfg9d5h1K"
      },
      "outputs": [],
      "source": [
        "def estrato(df):\n",
        "\n",
        "  moda = df['FAMI_ESTRATOVIVIENDA'].mode()[0]\n",
        "  # Función para generar valores aleatorios con la misma media y desviación estándar\n",
        "  def generar_valores(row):\n",
        "      if pd.isna(row):  # Si el valor es nulo\n",
        "          return moda\n",
        "      return row\n",
        "\n",
        "    # Aplicar la función para sustituir los valores nulos con una distribución normal equivalente\n",
        "  df['FAMI_ESTRATOVIVIENDA'] = df['FAMI_ESTRATOVIVIENDA'].apply(generar_valores)\n"
      ]
    },
    {
      "cell_type": "markdown",
      "metadata": {
        "id": "27ZO522WgNIH"
      },
      "source": [
        "### **Internet**"
      ]
    },
    {
      "cell_type": "code",
      "execution_count": null,
      "metadata": {
        "id": "52wExTeylhEg"
      },
      "outputs": [],
      "source": [
        "#NUEVO - la probabilidad no es una constante, es el promedio de personas que dijieron que si\n",
        "import random\n",
        "def internet(df):\n",
        "\n",
        "  percent = np.round(df['FAMI_TIENEINTERNET'].value_counts(normalize=True).get('Si', 0), 4)\n",
        "\n",
        "  def assign_value(row):\n",
        "    est_value=row['FAMI_ESTRATOVIVIENDA']\n",
        "    if pd.isnull(row['FAMI_TIENEINTERNET']):\n",
        "        if ((est_value != 'Sin Estrato') or (est_value != 'Estrato 1') or (est_value != 'Estrato 2')) :\n",
        "            return 'Si'\n",
        "        elif np.round(random.random(),4) <= percent:\n",
        "            return 'Si'\n",
        "        else:\n",
        "            return 'No'\n",
        "    else:\n",
        "        return row['FAMI_TIENEINTERNET']\n",
        "\n",
        "  df['FAMI_TIENEINTERNET'] = df.apply(assign_value, axis=1)"
      ]
    },
    {
      "cell_type": "markdown",
      "metadata": {
        "id": "QM6HpKc9gRnN"
      },
      "source": [
        "### **Matricula Propia**"
      ]
    },
    {
      "cell_type": "code",
      "execution_count": null,
      "metadata": {
        "id": "K-BZtxBYpkzg"
      },
      "outputs": [],
      "source": [
        "def matriculapropia(df):\n",
        "\n",
        "    # Agrupar por departamento y calcular la media y desviación estándar del rendimiento global\n",
        "    moda = df['ESTU_PAGOMATRICULAPROPIO'].mode()[0]\n",
        "\n",
        "    # Función para generar valores aleatorios con la misma media y desviación estándar\n",
        "    def generar_valores_normales(row):\n",
        "        if pd.isna(row):  # Si el valor es nulo\n",
        "            return moda\n",
        "        return row\n",
        "\n",
        "    # Aplicar la función para sustituir los valores nulos con una distribución normal equivalente\n",
        "    df['ESTU_PAGOMATRICULAPROPIO'] = df['ESTU_PAGOMATRICULAPROPIO'].apply(generar_valores_normales)\n"
      ]
    },
    {
      "cell_type": "markdown",
      "metadata": {
        "id": "fvSAQXUkgUyV"
      },
      "source": [
        "### **Horas que Trabaja**"
      ]
    },
    {
      "cell_type": "code",
      "execution_count": null,
      "metadata": {
        "id": "m5zHHQ1pC9_Z"
      },
      "outputs": [],
      "source": [
        "def horassemanatrabaja(df):\n",
        "\n",
        "  moda = df['ESTU_HORASSEMANATRABAJA'].mode()[0]\n",
        "\n",
        "  # Función para generar valores aleatorios con la misma media y desviación estándar\n",
        "  def generar_valores(row):\n",
        "      if pd.isna(row):  # Si el valor es nulo\n",
        "          return moda\n",
        "      return row\n",
        "\n",
        "    # Aplicar la función para sustituir los valores nulos con una distribución normal equivalente\n",
        "  df['ESTU_HORASSEMANATRABAJA'] = df['ESTU_HORASSEMANATRABAJA'].apply(generar_valores)"
      ]
    },
    {
      "cell_type": "markdown",
      "metadata": {
        "id": "sgiGQfkCga5_"
      },
      "source": [
        "### **Valor de la Matricula**"
      ]
    },
    {
      "cell_type": "code",
      "execution_count": null,
      "metadata": {
        "id": "XfyMyxvCDJCb"
      },
      "outputs": [],
      "source": [
        "def valormatriculauniversidad(df):\n",
        "\n",
        "  moda = df['ESTU_VALORMATRICULAUNIVERSIDAD'].mode()[0]\n",
        "  # Función para generar valores aleatorios con la misma media y desviación estándar\n",
        "  def generar_valores(row):\n",
        "      if pd.isna(row):  # Si el valor es nulo\n",
        "          return moda\n",
        "      return row\n",
        "\n",
        "    # Aplicar la función para sustituir los valores nulos con una distribución normal equivalente\n",
        "  df['ESTU_VALORMATRICULAUNIVERSIDAD'] = df['ESTU_VALORMATRICULAUNIVERSIDAD'].apply(generar_valores)"
      ]
    },
    {
      "cell_type": "markdown",
      "metadata": {
        "id": "vXB52bNlge09"
      },
      "source": [
        "### **Educación de Padre**"
      ]
    },
    {
      "cell_type": "code",
      "execution_count": null,
      "metadata": {
        "id": "6s7bt_wTOTga"
      },
      "outputs": [],
      "source": [
        "def educacionpadre(df):\n",
        "\n",
        "  moda = df['FAMI_EDUCACIONPADRE'].mode()[0]\n",
        "\n",
        "  # Función para generar valores aleatorios con la misma media y desviación estándar\n",
        "  def generar_valores(row):\n",
        "      if pd.isna(row):  # Si el valor es nulo\n",
        "          return moda\n",
        "      return row\n",
        "\n",
        "    # Aplicar la función para sustituir los valores nulos con una distribución normal equivalente\n",
        "  df['FAMI_EDUCACIONPADRE'] = df['FAMI_EDUCACIONPADRE'].apply(generar_valores)\n"
      ]
    },
    {
      "cell_type": "markdown",
      "metadata": {
        "id": "YbfjjTU2a2hM"
      },
      "source": [
        "### **Educación de Madre**"
      ]
    },
    {
      "cell_type": "code",
      "execution_count": null,
      "metadata": {
        "id": "3-Oy24qeRcEO"
      },
      "outputs": [],
      "source": [
        "def educacionmadre(df):\n",
        "\n",
        "  moda = df['FAMI_EDUCACIONMADRE'].mode()[0]\n",
        "  # Función para generar valores aleatorios con la misma media y desviación estándar\n",
        "  def generar_valores(row):\n",
        "      if pd.isna(row):  # Si el valor es nulo\n",
        "          return moda\n",
        "      return row\n",
        "\n",
        "    # Aplicar la función para sustituir los valores nulos con una distribución normal equivalente\n",
        "  df['FAMI_EDUCACIONMADRE'] = df['FAMI_EDUCACIONMADRE'].apply(generar_valores)"
      ]
    },
    {
      "cell_type": "markdown",
      "metadata": {
        "id": "1EfOSDASp2G9"
      },
      "source": [
        "### **Periodo**"
      ]
    },
    {
      "cell_type": "code",
      "execution_count": null,
      "metadata": {
        "id": "nmAITfmdRMQJ"
      },
      "outputs": [],
      "source": [
        "def periodo(df):\n",
        "\n",
        "  moda = df['PERIODO'].mode()[0]\n",
        "  # Función para generar valores aleatorios con la misma media y desviación estándar\n",
        "  def generar_valores(row):\n",
        "      if pd.isna(row):  # Si el valor es nulo\n",
        "          return moda\n",
        "      return row\n",
        "\n",
        "    # Aplicar la función para sustituir los valores nulos con una distribución normal equivalente\n",
        "  df['PERIODO'] = df['PERIODO'].apply(generar_valores)"
      ]
    },
    {
      "cell_type": "markdown",
      "metadata": {
        "id": "jd6f5tcNt3f3"
      },
      "source": [
        "### **Departamento**"
      ]
    },
    {
      "cell_type": "code",
      "execution_count": null,
      "metadata": {
        "id": "WOQoJ_QPlDQm"
      },
      "outputs": [],
      "source": [
        "def departamento(df):\n",
        "\n",
        "    # Agrupar por departamento y calcular la media y desviación estándar del rendimiento global\n",
        "    moda = df['ESTU_PRGM_DEPARTAMENTO'].mode()[0]\n",
        "\n",
        "    # Función para generar valores aleatorios con la misma media y desviación estándar\n",
        "    def generar_valores(row):\n",
        "        if pd.isna(row):  # Si el valor es nulo\n",
        "            return moda\n",
        "        return row\n",
        "\n",
        "    # Aplicar la función para sustituir los valores nulos con una distribución normal equivalente\n",
        "    df['ESTU_PRGM_DEPARTAMENTO'] = df['ESTU_PRGM_DEPARTAMENTO'].apply(generar_valores)\n"
      ]
    },
    {
      "cell_type": "markdown",
      "metadata": {
        "id": "UcWnCaeEj97n"
      },
      "source": [
        "### **Añadir Nuevas Columnas de Relación**"
      ]
    },
    {
      "cell_type": "code",
      "execution_count": null,
      "metadata": {
        "id": "hVz-7Ivhj8qA"
      },
      "outputs": [],
      "source": [
        "def nuevascolumnas(df):\n",
        "    df['RELACION_PROGRAMA_VALOR_MATRICULA'] = df.apply(lambda x: f\"{x['ESTU_PRGM_ACADEMICO']}_{x['ESTU_VALORMATRICULAUNIVERSIDAD']}\", axis=1)\n",
        "\n",
        "    df['RELACION_PROGRAMA_VALOR_MATRICULA_DEPARTAMENTO'] = df.apply(lambda x: f\"{x['ESTU_PRGM_ACADEMICO']}_{x['ESTU_VALORMATRICULAUNIVERSIDAD']}_{x['ESTU_PRGM_DEPARTAMENTO']}\", axis=1)\n",
        "\n",
        "    df['RELACION_PROGRAMA_DEPARTAMENTO'] = df.apply(lambda x: f\"{x['ESTU_PRGM_ACADEMICO']}_{x['ESTU_PRGM_DEPARTAMENTO']}\", axis=1)\n",
        "\n",
        "    df.drop(columns=['ESTU_PRGM_ACADEMICO'], inplace=True)"
      ]
    },
    {
      "cell_type": "markdown",
      "metadata": {
        "id": "dJwF8ZTIyjIP"
      },
      "source": [
        "### **Programa Acádemico**"
      ]
    },
    {
      "cell_type": "code",
      "execution_count": null,
      "metadata": {
        "id": "yn61szWClOTl"
      },
      "outputs": [],
      "source": [
        "def programaacademico(df):\n",
        "\n",
        "    # Agrupar por departamento y calcular la media y desviación estándar del rendimiento global\n",
        "    moda = df['ESTU_PRGM_ACADEMICO'].mode()[0]\n",
        "\n",
        "    # Función para generar valores aleatorios con la misma media y desviación estándar\n",
        "    def generar_valores(row):\n",
        "        if pd.isna(row):  # Si el valor es nulo\n",
        "            return moda\n",
        "        return row\n",
        "\n",
        "    # Aplicar la función para sustituir los valores nulos con una distribución normal equivalente\n",
        "    df['ESTU_PRGM_ACADEMICO'] = df['ESTU_PRGM_ACADEMICO'].apply(generar_valores)\n"
      ]
    },
    {
      "cell_type": "markdown",
      "metadata": {
        "id": "5lIZFtOdz2Qq"
      },
      "source": [
        "## **Limpieza Total**"
      ]
    },
    {
      "cell_type": "code",
      "execution_count": null,
      "metadata": {
        "id": "eq-HNt1lPPD6"
      },
      "outputs": [],
      "source": [
        "def limpiar_df(df, predict=False, test=False):\n",
        "  if not predict:\n",
        "    if not test:\n",
        "      rendimientoglobal(df)\n",
        "    estrato(df)\n",
        "    internet(df)\n",
        "    matriculapropia(df)\n",
        "    valormatriculauniversidad(df)\n",
        "    educacionpadre(df)\n",
        "    educacionmadre(df)\n",
        "    horassemanatrabaja(df)\n",
        "    departamento(df)\n",
        "    programaacademico(df)\n",
        "    periodo(df)\n",
        "    nuevascolumnas(df)\n",
        "    return df\n",
        "  elif predict:\n",
        "    rendimientoglobal(df)"
      ]
    },
    {
      "cell_type": "code",
      "execution_count": null,
      "metadata": {
        "id": "6LyDawtmcOUR"
      },
      "outputs": [],
      "source": [
        "limpiar_df(auxiliar_df, predict=True)\n",
        "train_df2 = limpiar_df(train_df)\n",
        "test_df2 = limpiar_df(test_df, test=True)"
      ]
    },
    {
      "cell_type": "markdown",
      "metadata": {
        "id": "xa9Gg5PnfxjU"
      },
      "source": [
        "# **Catboost Classifier**"
      ]
    },
    {
      "cell_type": "code",
      "execution_count": null,
      "metadata": {
        "colab": {
          "base_uri": "https://localhost:8080/"
        },
        "id": "tBLIidX9f39L",
        "outputId": "ddc3614a-392c-4584-96b8-3ef8f3cc8d37"
      },
      "outputs": [
        {
          "output_type": "stream",
          "name": "stdout",
          "text": [
            "Requirement already satisfied: catboost in /usr/local/lib/python3.11/dist-packages (1.2.8)\n",
            "Requirement already satisfied: graphviz in /usr/local/lib/python3.11/dist-packages (from catboost) (0.21)\n",
            "Requirement already satisfied: matplotlib in /usr/local/lib/python3.11/dist-packages (from catboost) (3.10.0)\n",
            "Requirement already satisfied: numpy<3.0,>=1.16.0 in /usr/local/lib/python3.11/dist-packages (from catboost) (2.0.2)\n",
            "Requirement already satisfied: pandas>=0.24 in /usr/local/lib/python3.11/dist-packages (from catboost) (2.2.2)\n",
            "Requirement already satisfied: scipy in /usr/local/lib/python3.11/dist-packages (from catboost) (1.15.3)\n",
            "Requirement already satisfied: plotly in /usr/local/lib/python3.11/dist-packages (from catboost) (5.24.1)\n",
            "Requirement already satisfied: six in /usr/local/lib/python3.11/dist-packages (from catboost) (1.17.0)\n",
            "Requirement already satisfied: python-dateutil>=2.8.2 in /usr/local/lib/python3.11/dist-packages (from pandas>=0.24->catboost) (2.9.0.post0)\n",
            "Requirement already satisfied: pytz>=2020.1 in /usr/local/lib/python3.11/dist-packages (from pandas>=0.24->catboost) (2025.2)\n",
            "Requirement already satisfied: tzdata>=2022.7 in /usr/local/lib/python3.11/dist-packages (from pandas>=0.24->catboost) (2025.2)\n",
            "Requirement already satisfied: contourpy>=1.0.1 in /usr/local/lib/python3.11/dist-packages (from matplotlib->catboost) (1.3.2)\n",
            "Requirement already satisfied: cycler>=0.10 in /usr/local/lib/python3.11/dist-packages (from matplotlib->catboost) (0.12.1)\n",
            "Requirement already satisfied: fonttools>=4.22.0 in /usr/local/lib/python3.11/dist-packages (from matplotlib->catboost) (4.58.4)\n",
            "Requirement already satisfied: kiwisolver>=1.3.1 in /usr/local/lib/python3.11/dist-packages (from matplotlib->catboost) (1.4.8)\n",
            "Requirement already satisfied: packaging>=20.0 in /usr/local/lib/python3.11/dist-packages (from matplotlib->catboost) (24.2)\n",
            "Requirement already satisfied: pillow>=8 in /usr/local/lib/python3.11/dist-packages (from matplotlib->catboost) (11.2.1)\n",
            "Requirement already satisfied: pyparsing>=2.3.1 in /usr/local/lib/python3.11/dist-packages (from matplotlib->catboost) (3.2.3)\n",
            "Requirement already satisfied: tenacity>=6.2.0 in /usr/local/lib/python3.11/dist-packages (from plotly->catboost) (8.5.0)\n"
          ]
        }
      ],
      "source": [
        "!pip install catboost\n"
      ]
    },
    {
      "cell_type": "code",
      "source": [
        "train_df2.to_csv(\"train_limpio.csv\", index=False)\n"
      ],
      "metadata": {
        "id": "mF0ppEcAxn-6"
      },
      "execution_count": null,
      "outputs": []
    },
    {
      "cell_type": "code",
      "execution_count": null,
      "metadata": {
        "colab": {
          "base_uri": "https://localhost:8080/"
        },
        "id": "5qP0G9K_SPJb",
        "outputId": "7f4c1a92-db43-4bfc-b4d0-c4763ce99e26"
      },
      "outputs": [
        {
          "output_type": "stream",
          "name": "stdout",
          "text": [
            "0:\tlearn: 0.4012192\ttest: 0.4062662\tbest: 0.4062662 (0)\ttotal: 9.67s\tremaining: 2h 41m\n",
            "100:\tlearn: 0.4392322\ttest: 0.4416953\tbest: 0.4417687 (97)\ttotal: 15m 10s\tremaining: 2h 15m 2s\n",
            "200:\tlearn: 0.4436451\ttest: 0.4451858\tbest: 0.4453603 (198)\ttotal: 31m 29s\tremaining: 2h 5m 10s\n",
            "300:\tlearn: 0.4459817\ttest: 0.4462301\tbest: 0.4467656 (266)\ttotal: 47m 53s\tremaining: 1h 51m 13s\n",
            "400:\tlearn: 0.4471478\ttest: 0.4465645\tbest: 0.4467656 (266)\ttotal: 1h 3m 43s\tremaining: 1h 35m 11s\n",
            "500:\tlearn: 0.4483953\ttest: 0.4466698\tbest: 0.4467973 (461)\ttotal: 1h 19m 41s\tremaining: 1h 19m 22s\n",
            "600:\tlearn: 0.4493940\ttest: 0.4466364\tbest: 0.4470428 (562)\ttotal: 1h 35m 56s\tremaining: 1h 3m 41s\n",
            "700:\tlearn: 0.4506922\ttest: 0.4467923\tbest: 0.4470428 (562)\ttotal: 1h 51m 42s\tremaining: 47m 39s\n",
            "800:\tlearn: 0.4519511\ttest: 0.4464309\tbest: 0.4470428 (562)\ttotal: 2h 7m 30s\tremaining: 31m 40s\n",
            "900:\tlearn: 0.4528441\ttest: 0.4469274\tbest: 0.4470428 (562)\ttotal: 2h 23m 5s\tremaining: 15m 43s\n",
            "999:\tlearn: 0.4537468\ttest: 0.4467094\tbest: 0.4471305 (944)\ttotal: 2h 38m 39s\tremaining: 0us\n",
            "\n",
            "bestTest = 0.4471305382\n",
            "bestIteration = 944\n",
            "\n",
            "Shrink model to first 945 iterations.\n",
            "Precisión del modelo: 0.44824548736462094\n"
          ]
        }
      ],
      "source": [
        "from catboost import CatBoostClassifier\n",
        "from sklearn.model_selection import train_test_split\n",
        "from sklearn.metrics import accuracy_score\n",
        "\n",
        "# Cargar los datos\n",
        "data = train_df2.copy()  # train_df_clean\n",
        "\n",
        "# Dividir datos en características y variable objetivo\n",
        "X = data.drop(columns=[\"ID\", \"RENDIMIENTO_GLOBAL\"])\n",
        "y = data[\"RENDIMIENTO_GLOBAL\"]\n",
        "\n",
        "categorical_features = X.select_dtypes(include=['object']).columns.tolist()\n",
        "\n",
        "# Dividir el dataset en conjuntos de entrenamiento y prueba\n",
        "X_train, X_test, y_train, y_test = train_test_split(X, y, test_size=0.1, random_state=16, stratify=y)\n",
        "\n",
        "for col in categorical_features:\n",
        "    X_train[col] = X_train[col].fillna(\"Desconocido\")\n",
        "    X_test[col] = X_test[col].fillna(\"Desconocido\")\n",
        "\n",
        "# Crear el modelo CatBoost con bootstrap_type='Bayesian'\n",
        "model = CatBoostClassifier(\n",
        "    iterations=1000,\n",
        "    learning_rate=0.07,\n",
        "    depth=6,\n",
        "    l2_leaf_reg=3,\n",
        "    bootstrap_type='Bernoulli',\n",
        "    subsample=0.75,\n",
        "    auto_class_weights='Balanced',\n",
        "    thread_count=4,\n",
        "    verbose=100,\n",
        "    task_type='CPU',\n",
        "    eval_metric='Accuracy',\n",
        ")\n",
        "\n",
        "# Entrenar el modelo\n",
        "model.fit(X_train, y_train, eval_set=(X_test, y_test), cat_features=categorical_features, use_best_model=True)\n",
        "\n",
        "# Predecir en el conjunto de prueba\n",
        "y_pred = model.predict(X_test)\n",
        "\n",
        "# Calcular la precisión\n",
        "accuracy = accuracy_score(y_test, y_pred)\n",
        "print(f\"Precisión del modelo: {accuracy}\")"
      ]
    },
    {
      "cell_type": "markdown",
      "metadata": {
        "id": "UhzEH9TeDwhY"
      },
      "source": [
        "# **Predicción Kaggle**"
      ]
    },
    {
      "cell_type": "code",
      "execution_count": null,
      "metadata": {
        "id": "GUVDDgoddmRS"
      },
      "outputs": [],
      "source": [
        "pred = test_df2.copy()\n",
        "y = pred[\"ID\"]\n",
        "\n",
        "# Eliminar columnas innecesarias si existen\n",
        "columnas_a_eliminar = [col for col in [\"ID\", \"Unnamed: 0\"] if col in pred.columns]\n",
        "pred.drop(columns=columnas_a_eliminar, inplace=True)\n",
        "\n",
        "# Rellenar NaN en columnas categóricas\n",
        "for col in pred.select_dtypes(include=['object']).columns:\n",
        "    pred[col] = pred[col].fillna(\"Desconocido\")\n",
        "\n",
        "# Predecir\n",
        "predicciones = model.predict(pred)\n",
        "\n",
        "# Concatenar resultados\n",
        "sol = pd.concat([y, pd.DataFrame(predicciones, columns=[\"RENDIMIENTO_GLOBAL\"])], axis=1)\n",
        "\n",
        "# Convertir de números a etiquetas\n",
        "rendimientoglobalreverse(sol)\n",
        "\n",
        "# Guardar a CSV\n",
        "sol.to_csv(\"submission.csv\", index=False)\n"
      ]
    },
    {
      "cell_type": "code",
      "source": [
        "!kaggle competitions submit -c udea-ai-4-eng-20251-pruebas-saber-pro-colombia -f submission.csv -m \"Este es el modelo CatBoost\"\n"
      ],
      "metadata": {
        "colab": {
          "base_uri": "https://localhost:8080/"
        },
        "id": "sfGtmA8UY2Eu",
        "outputId": "082028f2-dba7-46c1-a4cf-34dbe2bca45e"
      },
      "execution_count": null,
      "outputs": [
        {
          "output_type": "stream",
          "name": "stdout",
          "text": [
            "100% 4.08M/4.08M [00:00<00:00, 5.83MB/s]\n",
            "Successfully submitted to UDEA/ai4eng 20251 - Pruebas Saber Pro Colombia"
          ]
        }
      ]
    }
  ],
  "metadata": {
    "colab": {
      "collapsed_sections": [
        "XIo59no_fTMg",
        "HDWJak8d1VV6",
        "0gxSYAtdCdli",
        "ZrpICQLg5PzS",
        "Bz_moOcjarYy",
        "_ES11NQExBaY",
        "q-uV-RDXcUgC",
        "MAI_bdbr5iSZ",
        "27ZO522WgNIH",
        "QM6HpKc9gRnN",
        "fvSAQXUkgUyV",
        "sgiGQfkCga5_",
        "vXB52bNlge09",
        "YbfjjTU2a2hM",
        "1EfOSDASp2G9",
        "jd6f5tcNt3f3",
        "D5HMfZjvIEPZ",
        "uj7N8AVXdhsN",
        "xFNKzIzldrDY"
      ],
      "provenance": []
    },
    "kernelspec": {
      "display_name": "Python 3",
      "name": "python3"
    },
    "language_info": {
      "name": "python"
    }
  },
  "nbformat": 4,
  "nbformat_minor": 0
}