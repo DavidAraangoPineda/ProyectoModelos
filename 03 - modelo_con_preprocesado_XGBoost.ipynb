{
  "nbformat": 4,
  "nbformat_minor": 0,
  "metadata": {
    "colab": {
      "provenance": [],
      "collapsed_sections": [
        "XIo59no_fTMg",
        "HDWJak8d1VV6",
        "0gxSYAtdCdli",
        "_ES11NQExBaY",
        "q-uV-RDXcUgC",
        "MAI_bdbr5iSZ",
        "27ZO522WgNIH",
        "QM6HpKc9gRnN",
        "fvSAQXUkgUyV",
        "sgiGQfkCga5_",
        "vXB52bNlge09",
        "YbfjjTU2a2hM",
        "1EfOSDASp2G9",
        "jd6f5tcNt3f3",
        "dJwF8ZTIyjIP"
      ]
    },
    "kernelspec": {
      "name": "python3",
      "display_name": "Python 3"
    },
    "language_info": {
      "name": "python"
    }
  },
  "cells": [
    {
      "cell_type": "code",
      "source": [
        "import pandas as pd\n",
        "import seaborn as sns\n",
        "import numpy as np\n",
        "import matplotlib.pyplot as plt\n",
        "import os"
      ],
      "metadata": {
        "id": "rFj6sRBfSeqz"
      },
      "execution_count": 6,
      "outputs": []
    },
    {
      "cell_type": "code",
      "source": [
        "os.environ['KAGGLE_CONFIG_DIR'] = '.'\n",
        "!chmod 600 ./kaggle.json\n",
        "!kaggle competitions download -c udea-ai-4-eng-20251-pruebas-saber-pro-colombia\n",
        "\n",
        "!unzip udea*.zip > /dev/null\n",
        "!wc *.csv"
      ],
      "metadata": {
        "colab": {
          "base_uri": "https://localhost:8080/"
        },
        "id": "crXHXO_4QlDZ",
        "outputId": "b9603892-5a99-47b9-aa66-386ebbd46635"
      },
      "execution_count": 7,
      "outputs": [
        {
          "output_type": "stream",
          "name": "stdout",
          "text": [
            "udea-ai-4-eng-20251-pruebas-saber-pro-colombia.zip: Skipping, found more recently modified local copy (use --force to force download)\n",
            "replace submission_example.csv? [y]es, [n]o, [A]ll, [N]one, [r]ename: A\n",
            "   296787    296787   4716673 submission_example.csv\n",
            "   296787   4565553  59185250 test.csv\n",
            "   692501  10666231 143732449 train.csv\n",
            "  1286075  15528571 207634372 total\n"
          ]
        }
      ]
    },
    {
      "cell_type": "markdown",
      "source": [
        "#**Cargar archivos como Dataframes**"
      ],
      "metadata": {
        "id": "0gxSYAtdCdli"
      }
    },
    {
      "cell_type": "code",
      "source": [
        "train_df = pd.read_csv('train.csv')\n",
        "test_df = pd.read_csv('test.csv')\n",
        "auxiliar_df = train_df.copy()"
      ],
      "metadata": {
        "id": "YMTXqq2CQvBy"
      },
      "execution_count": 8,
      "outputs": []
    },
    {
      "cell_type": "code",
      "source": [
        "train_df.columns"
      ],
      "metadata": {
        "colab": {
          "base_uri": "https://localhost:8080/"
        },
        "id": "CeLvwczgq1Ru",
        "outputId": "1e5595c8-f8ce-41e5-cc8e-5afd5f813ad8"
      },
      "execution_count": 9,
      "outputs": [
        {
          "output_type": "execute_result",
          "data": {
            "text/plain": [
              "Index(['ID', 'PERIODO', 'ESTU_PRGM_ACADEMICO', 'ESTU_PRGM_DEPARTAMENTO',\n",
              "       'ESTU_VALORMATRICULAUNIVERSIDAD', 'ESTU_HORASSEMANATRABAJA',\n",
              "       'FAMI_ESTRATOVIVIENDA', 'FAMI_TIENEINTERNET', 'FAMI_EDUCACIONPADRE',\n",
              "       'FAMI_TIENELAVADORA', 'FAMI_TIENEAUTOMOVIL', 'ESTU_PRIVADO_LIBERTAD',\n",
              "       'ESTU_PAGOMATRICULAPROPIO', 'FAMI_TIENECOMPUTADOR',\n",
              "       'FAMI_TIENEINTERNET.1', 'FAMI_EDUCACIONMADRE', 'RENDIMIENTO_GLOBAL',\n",
              "       'coef_1', 'coef_2', 'coef_3', 'coef_4'],\n",
              "      dtype='object')"
            ]
          },
          "metadata": {},
          "execution_count": 9
        }
      ]
    },
    {
      "cell_type": "markdown",
      "source": [
        "## **Funciones de Limpieza**"
      ],
      "metadata": {
        "id": "Bz_moOcjarYy"
      }
    },
    {
      "cell_type": "markdown",
      "source": [
        "### **Rendimiento Global**"
      ],
      "metadata": {
        "id": "_ES11NQExBaY"
      }
    },
    {
      "cell_type": "code",
      "source": [
        "def rendimientoglobal(df):\n",
        "  map_dict = {\n",
        "    \"alto\":3,\n",
        "    \"medio-alto\":2,\n",
        "    \"medio-bajo\":1,\n",
        "    \"bajo\": 0\n",
        "  }\n",
        "  df['RENDIMIENTO_GLOBAL'] = df['RENDIMIENTO_GLOBAL'].map(map_dict)"
      ],
      "metadata": {
        "id": "HGlrCMXyxEjL"
      },
      "execution_count": 10,
      "outputs": []
    },
    {
      "cell_type": "markdown",
      "source": [
        "### **Rendimiento Global Reverso**"
      ],
      "metadata": {
        "id": "q-uV-RDXcUgC"
      }
    },
    {
      "cell_type": "code",
      "source": [
        "def rendimientoglobalreverse(df):\n",
        "    df['RENDIMIENTO_GLOBAL'] = df['RENDIMIENTO_GLOBAL'].round().astype(int)\n",
        "    map_dict = {\n",
        "        3: \"alto\",\n",
        "        2: \"medio-alto\",\n",
        "        1: \"medio-bajo\",\n",
        "        0: \"bajo\"\n",
        "    }\n",
        "    df['RENDIMIENTO_GLOBAL'] = df['RENDIMIENTO_GLOBAL'].map(map_dict)\n",
        "    return df"
      ],
      "metadata": {
        "id": "7_l39MTtdF21"
      },
      "execution_count": 11,
      "outputs": []
    },
    {
      "cell_type": "markdown",
      "source": [
        "### **Estrato**"
      ],
      "metadata": {
        "id": "MAI_bdbr5iSZ"
      }
    },
    {
      "cell_type": "code",
      "source": [
        "def estrato(df):\n",
        "    map_dict = {\n",
        "        'Estrato 1': 1,\n",
        "        'Estrato 2': 3,\n",
        "        'Estrato 3': 4,\n",
        "        'Estrato 4': 5,\n",
        "        'Estrato 5': 6,\n",
        "        'Estrato 6': 7,\n",
        "        'Sin Estrato': 2\n",
        "    }\n",
        "\n",
        "    df['FAMI_ESTRATOVIVIENDA'] = df['FAMI_ESTRATOVIVIENDA'].map(map_dict)\n",
        "\n",
        "    # Calcula la moda de manera segura\n",
        "    modas = df['FAMI_ESTRATOVIVIENDA'].mode()\n",
        "    if not modas.empty:\n",
        "        moda = modas.iloc[0]\n",
        "    else:\n",
        "        moda = 0  # valor por defecto si toda la columna es nula\n",
        "\n",
        "    # Reemplaza valores nulos por la moda\n",
        "    def generar_valores(row):\n",
        "        if pd.isna(row):\n",
        "            return moda\n",
        "        return row\n",
        "\n",
        "    df['FAMI_ESTRATOVIVIENDA'] = df['FAMI_ESTRATOVIVIENDA'].apply(generar_valores)\n",
        "\n"
      ],
      "metadata": {
        "id": "oSgEfg9d5h1K"
      },
      "execution_count": 12,
      "outputs": []
    },
    {
      "cell_type": "markdown",
      "source": [
        "### **Internet**"
      ],
      "metadata": {
        "id": "27ZO522WgNIH"
      }
    },
    {
      "cell_type": "code",
      "source": [
        "#NUEVO - la probabilidad no es una constante, es el promedio de personas que dijieron que si\n",
        "import random\n",
        "def internet(df):\n",
        "  map_dict = {\n",
        "    'Si': 1,\n",
        "    'No': 0,\n",
        "  }\n",
        "  df['FAMI_TIENEINTERNET'] = df['FAMI_TIENEINTERNET'].map(map_dict)\n",
        "  percent=np.round(df['FAMI_TIENEINTERNET'].mean(),4)\n",
        "\n",
        "  def assign_value(row):\n",
        "    est_value=row['FAMI_ESTRATOVIVIENDA']\n",
        "    if pd.isnull(row['FAMI_TIENEINTERNET']):\n",
        "        if est_value > 2:\n",
        "            return 1\n",
        "        elif np.round(random.random(),4) <= percent:\n",
        "            return 1\n",
        "        else:\n",
        "            return 0\n",
        "    else:\n",
        "        return row['FAMI_TIENEINTERNET']\n",
        "\n",
        "  df['FAMI_TIENEINTERNET'] = df.apply(assign_value, axis=1)"
      ],
      "metadata": {
        "id": "52wExTeylhEg"
      },
      "execution_count": 13,
      "outputs": []
    },
    {
      "cell_type": "markdown",
      "source": [
        "### **Matricula Propia**"
      ],
      "metadata": {
        "id": "QM6HpKc9gRnN"
      }
    },
    {
      "cell_type": "code",
      "source": [
        "def matriculapropia(df):\n",
        "\n",
        "    # Agrupar por departamento y calcular la media y desviación estándar del rendimiento global\n",
        "    res_mean = auxiliar_df.groupby('ESTU_PAGOMATRICULAPROPIO')[\"RENDIMIENTO_GLOBAL\"].mean()\n",
        "    res_std = auxiliar_df.groupby('ESTU_PAGOMATRICULAPROPIO')[\"RENDIMIENTO_GLOBAL\"].std()\n",
        "\n",
        "    # Mapear los resultados en el DataFrame\n",
        "    df['ESTU_PAGOMATRICULAPROPIO'] = df['ESTU_PAGOMATRICULAPROPIO'].map(res_mean)\n",
        "\n",
        "    # Función para generar valores aleatorios con la misma media y desviación estándar\n",
        "    def generar_valores_normales(row):\n",
        "        if pd.isna(row):  # Si el valor es nulo\n",
        "            mean = res_mean.mean()\n",
        "            std = res_std.mean()\n",
        "            return np.random.normal(mean, std)\n",
        "        return row\n",
        "\n",
        "    # Aplicar la función para sustituir los valores nulos con una distribución normal equivalente\n",
        "    df['ESTU_PAGOMATRICULAPROPIO'] = df['ESTU_PAGOMATRICULAPROPIO'].apply(generar_valores_normales)"
      ],
      "metadata": {
        "id": "K-BZtxBYpkzg"
      },
      "execution_count": 14,
      "outputs": []
    },
    {
      "cell_type": "markdown",
      "source": [
        "### **Horas que Trabaja**"
      ],
      "metadata": {
        "id": "fvSAQXUkgUyV"
      }
    },
    {
      "cell_type": "code",
      "source": [
        "def horassemanatrabaja(df):\n",
        "    map_dict = {\n",
        "        '0': 5,\n",
        "        'Entre 11 y 20 horas': 3,\n",
        "        'Entre 21 y 30 horas': 2,\n",
        "        'Menos de 10 horas': 4,\n",
        "        'Más de 30 horas': 1\n",
        "    }\n",
        "\n",
        "    df['ESTU_HORASSEMANATRABAJA'] = df['ESTU_HORASSEMANATRABAJA'].map(map_dict)\n",
        "\n",
        "    # calcula la moda de forma segura\n",
        "    modas = df['ESTU_HORASSEMANATRABAJA'].mode()\n",
        "    if not modas.empty:\n",
        "        moda = modas.iloc[0]\n",
        "    else:\n",
        "        moda = 0  # o el valor por defecto que prefieras\n",
        "\n",
        "    # rellena los valores nulos con la moda\n",
        "    df['ESTU_HORASSEMANATRABAJA'] = df['ESTU_HORASSEMANATRABAJA'].fillna(moda)"
      ],
      "metadata": {
        "id": "m5zHHQ1pC9_Z"
      },
      "execution_count": 15,
      "outputs": []
    },
    {
      "cell_type": "markdown",
      "source": [
        "### **Valor de la Matricula**"
      ],
      "metadata": {
        "id": "sgiGQfkCga5_"
      }
    },
    {
      "cell_type": "code",
      "source": [
        "def valormatriculauniversidad(df):\n",
        "    map_dict = {\n",
        "        'Entre 1 millón y menos de 2.5 millones': 1,\n",
        "        'Entre 2.5 millones y menos de 4 millones': 2,\n",
        "        'Entre 4 millones y menos de 5.5 millones': 6,\n",
        "        'Entre 5.5 millones y menos de 7 millones': 7,\n",
        "        'Entre 500 mil y menos de 1 millón': 3,\n",
        "        'Menos de 500 mil': 5,\n",
        "        'Más de 7 millones': 8,\n",
        "        'No pagó matrícula': 4\n",
        "    }\n",
        "\n",
        "    df['ESTU_VALORMATRICULAUNIVERSIDAD'] = df['ESTU_VALORMATRICULAUNIVERSIDAD'].map(map_dict)\n",
        "\n",
        "    # calcula la moda de forma segura\n",
        "    modas = df['ESTU_VALORMATRICULAUNIVERSIDAD'].mode()\n",
        "    if not modas.empty:\n",
        "        moda = modas.iloc[0]\n",
        "    else:\n",
        "        moda = 0  # valor por defecto si no hay datos válidos\n",
        "\n",
        "    # reemplaza nulos con la moda\n",
        "    df['ESTU_VALORMATRICULAUNIVERSIDAD'] = df['ESTU_VALORMATRICULAUNIVERSIDAD'].fillna(moda)"
      ],
      "metadata": {
        "id": "XfyMyxvCDJCb"
      },
      "execution_count": 16,
      "outputs": []
    },
    {
      "cell_type": "markdown",
      "source": [
        "### **Educación de Padre**"
      ],
      "metadata": {
        "id": "vXB52bNlge09"
      }
    },
    {
      "cell_type": "code",
      "source": [
        "def educacionpadre(df):\n",
        "    map_dict = {\n",
        "        'Educación profesional completa': 11,\n",
        "        'Educación profesional incompleta': 10,\n",
        "        'Ninguno': 1,\n",
        "        'No Aplica': 7,\n",
        "        'No sabe': 9,\n",
        "        'Postgrado': 12,\n",
        "        'Primaria completa': 3,\n",
        "        'Primaria incompleta': 2,\n",
        "        'Secundaria (Bachillerato) completa': 6,\n",
        "        'Secundaria (Bachillerato) incompleta': 4,\n",
        "        'Técnica o tecnológica completa': 8,\n",
        "        'Técnica o tecnológica incompleta': 5\n",
        "    }\n",
        "\n",
        "    df['FAMI_EDUCACIONPADRE'] = df['FAMI_EDUCACIONPADRE'].map(map_dict)\n",
        "\n",
        "    modas = df['FAMI_EDUCACIONPADRE'].mode()\n",
        "    moda = modas.iloc[0] if not modas.empty else 0\n",
        "\n",
        "    df['FAMI_EDUCACIONPADRE'] = df['FAMI_EDUCACIONPADRE'].fillna(moda)\n"
      ],
      "metadata": {
        "id": "6s7bt_wTOTga"
      },
      "execution_count": 17,
      "outputs": []
    },
    {
      "cell_type": "markdown",
      "source": [
        "### **Educación de Madre**"
      ],
      "metadata": {
        "id": "YbfjjTU2a2hM"
      }
    },
    {
      "cell_type": "code",
      "source": [
        "def educacionmadre(df):\n",
        "    map_dict = {\n",
        "        'Educación profesional completa': 11,\n",
        "        'Educación profesional incompleta': 10,\n",
        "        'Ninguno': 1,\n",
        "        'No Aplica': 4,\n",
        "        'No sabe': 6,\n",
        "        'Postgrado': 12,\n",
        "        'Primaria completa': 3,\n",
        "        'Primaria incompleta': 2,\n",
        "        'Secundaria (Bachillerato) completa': 7,\n",
        "        'Secundaria (Bachillerato) incompleta': 5,\n",
        "        'Técnica o tecnológica completa': 9,\n",
        "        'Técnica o tecnológica incompleta': 8\n",
        "    }\n",
        "\n",
        "    df['FAMI_EDUCACIONMADRE'] = df['FAMI_EDUCACIONMADRE'].map(map_dict)\n",
        "\n",
        "    # calcula la moda de forma segura\n",
        "    modas = df['FAMI_EDUCACIONMADRE'].mode()\n",
        "    if not modas.empty:\n",
        "        moda = modas.iloc[0]\n",
        "    else:\n",
        "        moda = 0  # o el valor que prefieras por defecto\n",
        "\n",
        "    # rellena nulos con la moda\n",
        "    df['FAMI_EDUCACIONMADRE'] = df['FAMI_EDUCACIONMADRE'].fillna(moda)"
      ],
      "metadata": {
        "id": "3-Oy24qeRcEO"
      },
      "execution_count": 18,
      "outputs": []
    },
    {
      "cell_type": "markdown",
      "source": [
        "### **Periodo**"
      ],
      "metadata": {
        "id": "1EfOSDASp2G9"
      }
    },
    {
      "cell_type": "code",
      "source": [
        "def periodo(df):\n",
        "    df['PERIODO'] = df['PERIODO'].astype(str)\n",
        "\n",
        "    map_dict = {\n",
        "        \"20183\": 5,\n",
        "        \"20184\": 1,\n",
        "        \"20194\": 9,\n",
        "        \"20195\": 3,\n",
        "        \"20196\": 4,\n",
        "        \"20202\": 8,\n",
        "        \"20203\": 6,\n",
        "        \"20212\": 2,\n",
        "        \"20213\": 7\n",
        "    }\n",
        "\n",
        "    df['PERIODO'] = df['PERIODO'].map(map_dict)\n",
        "\n",
        "    modas = df['PERIODO'].mode()\n",
        "    if not modas.empty:\n",
        "        moda = modas.iloc[0]\n",
        "    else:\n",
        "        moda = 0  # o el valor que prefieras como predeterminado\n",
        "\n",
        "    df['PERIODO'] = df['PERIODO'].fillna(moda)"
      ],
      "metadata": {
        "id": "nmAITfmdRMQJ"
      },
      "execution_count": 19,
      "outputs": []
    },
    {
      "cell_type": "markdown",
      "source": [
        "### **Departamento**"
      ],
      "metadata": {
        "id": "jd6f5tcNt3f3"
      }
    },
    {
      "cell_type": "code",
      "source": [
        "def departamento(df):\n",
        "\n",
        "    # Agrupar por departamento y calcular la media y desviación estándar del rendimiento global\n",
        "    res_mean = auxiliar_df.groupby('ESTU_PRGM_DEPARTAMENTO')[\"RENDIMIENTO_GLOBAL\"].mean()\n",
        "\n",
        "    # Mapear los resultados en el DataFrame\n",
        "    df['ESTU_PRGM_DEPARTAMENTO'] = df['ESTU_PRGM_DEPARTAMENTO'].map(res_mean)\n",
        "\n",
        "    # Función para generar valores aleatorios con la misma media y desviación estándar\n",
        "    def generar_valores_normales(row):\n",
        "        if pd.isna(row):  # Si el valor es nulo\n",
        "            mean = auxiliar_df['RENDIMIENTO_GLOBAL'].mean()\n",
        "            return mean\n",
        "        return row\n",
        "\n",
        "    # Aplicar la función para sustituir los valores nulos con una distribución normal equivalente\n",
        "    df['ESTU_PRGM_DEPARTAMENTO'] = df['ESTU_PRGM_DEPARTAMENTO'].apply(generar_valores_normales)\n"
      ],
      "metadata": {
        "id": "WOQoJ_QPlDQm"
      },
      "execution_count": 20,
      "outputs": []
    },
    {
      "cell_type": "markdown",
      "source": [
        "### **Programa Acádemico**"
      ],
      "metadata": {
        "id": "dJwF8ZTIyjIP"
      }
    },
    {
      "cell_type": "code",
      "source": [
        "def programaacademico(df):\n",
        "\n",
        "    # Agrupar por departamento y calcular la media y desviación estándar del rendimiento global\n",
        "    res_mean = auxiliar_df.groupby('ESTU_PRGM_ACADEMICO')[\"RENDIMIENTO_GLOBAL\"].mean()\n",
        "\n",
        "    # Mapear los resultados en el DataFrame\n",
        "    df['ESTU_PRGM_ACADEMICO'] = df['ESTU_PRGM_ACADEMICO'].map(res_mean)\n",
        "\n",
        "    # Función para generar valores aleatorios con la misma media y desviación estándar\n",
        "    def generar_valores_normales(row):\n",
        "        if pd.isna(row):  # Si el valor es nulo\n",
        "            mean = auxiliar_df['RENDIMIENTO_GLOBAL'].mean()\n",
        "            return mean\n",
        "        return row\n",
        "\n",
        "    # Aplicar la función para sustituir los valores nulos con una distribución normal equivalente\n",
        "    df['ESTU_PRGM_ACADEMICO'] = df['ESTU_PRGM_ACADEMICO'].apply(generar_valores_normales)\n",
        "\n"
      ],
      "metadata": {
        "id": "yn61szWClOTl"
      },
      "execution_count": 21,
      "outputs": []
    },
    {
      "cell_type": "markdown",
      "source": [
        "### **Columnas binarias**"
      ],
      "metadata": {
        "id": "nrnKqx5QrWw4"
      }
    },
    {
      "cell_type": "code",
      "source": [
        "def columnas_binarias(df):\n",
        "    \"\"\"Convierte las columnas binarias 'Si'/'No' a 1/0\"\"\"\n",
        "    binarias = [\n",
        "        'FAMI_TIENELAVADORA',\n",
        "        'FAMI_TIENEAUTOMOVIL',\n",
        "        'ESTU_PRIVADO_LIBERTAD',\n",
        "        'FAMI_TIENECOMPUTADOR',\n",
        "        'FAMI_TIENEINTERNET.1'\n",
        "    ]\n",
        "    for col in binarias:\n",
        "        if col in df.columns:\n",
        "            df[col] = df[col].map({'Si': 1, 'No': 0})\n",
        "            df[col] = df[col].fillna(0)  # opcional: llena nulos con 0"
      ],
      "metadata": {
        "id": "dJoR1ypTrVXF"
      },
      "execution_count": 22,
      "outputs": []
    },
    {
      "cell_type": "markdown",
      "source": [
        "## **Limpieza Total**"
      ],
      "metadata": {
        "id": "5lIZFtOdz2Qq"
      }
    },
    {
      "cell_type": "code",
      "source": [
        "def limpiar_df(df, predict=False, test=False):\n",
        "  if not predict:\n",
        "    if not test:\n",
        "      rendimientoglobal(df)\n",
        "    estrato(df)\n",
        "    internet(df)\n",
        "    matriculapropia(df)\n",
        "    valormatriculauniversidad(df)\n",
        "    educacionpadre(df)\n",
        "    educacionmadre(df)\n",
        "    horassemanatrabaja(df)\n",
        "    departamento(df)\n",
        "    programaacademico(df)\n",
        "    periodo(df)\n",
        "    columnas_binarias(df)\n",
        "    return df\n",
        "  elif predict:\n",
        "    rendimientoglobal(df)"
      ],
      "metadata": {
        "id": "eq-HNt1lPPD6"
      },
      "execution_count": 23,
      "outputs": []
    },
    {
      "cell_type": "code",
      "source": [
        "limpiar_df(auxiliar_df, predict=True)\n",
        "train_df2 = limpiar_df(train_df)\n",
        "test_df2 = limpiar_df(test_df, test=True)"
      ],
      "metadata": {
        "id": "6LyDawtmcOUR"
      },
      "execution_count": 24,
      "outputs": []
    },
    {
      "cell_type": "markdown",
      "source": [
        "# **XGBoost Classifier**"
      ],
      "metadata": {
        "id": "D5HMfZjvIEPZ"
      }
    },
    {
      "cell_type": "code",
      "source": [
        "import xgboost as xgb\n",
        "from sklearn.metrics import accuracy_score\n",
        "from sklearn.model_selection import train_test_split\n",
        "\n",
        "df = train_df2.copy()\n",
        "\n",
        "# Separar características (X) y la variable objetivo (y)\n",
        "X = df.drop(columns=[\"RENDIMIENTO_GLOBAL\",\"ID\"], axis=1)\n",
        "y = df[\"RENDIMIENTO_GLOBAL\"]\n",
        "\n",
        "# Dividir el conjunto de datos en entrenamiento y pruebas\n",
        "X_train, X_test, y_train, y_test = train_test_split(X, y, test_size=0.01, random_state=42)\n",
        "\n",
        "# Inicializar el modelo de XGBoost para clasificación\n",
        "xgb_classifier = xgb.XGBClassifier(n_estimators=100,\n",
        "                                   learning_rate=0.4,\n",
        "                                   max_depth=5,\n",
        "                                   random_state=42)\n",
        "\n",
        "# Entrenar el modelo\n",
        "xgb_classifier.fit(X_train, y_train)\n",
        "\n",
        "# Predecir los valores del conjunto de prueba\n",
        "y_pred = xgb_classifier.predict(X_test)\n",
        "\n",
        "# Evaluar la precisión del modelo\n",
        "accuracy = accuracy_score(y_test, y_pred)\n",
        "print(f'Precisión: {accuracy}')\n"
      ],
      "metadata": {
        "colab": {
          "base_uri": "https://localhost:8080/"
        },
        "id": "EviLiSCsIDFI",
        "outputId": "77ccd3dd-cb72-4b81-a235-bae26aad0052"
      },
      "execution_count": 26,
      "outputs": [
        {
          "output_type": "stream",
          "name": "stdout",
          "text": [
            "Precisión: 0.44404332129963897\n"
          ]
        }
      ]
    },
    {
      "cell_type": "markdown",
      "source": [
        "# **Importancia de Columnas en XGBoost Classifier**"
      ],
      "metadata": {
        "id": "tF_SYNC0x0YU"
      }
    },
    {
      "cell_type": "code",
      "source": [
        "# Extraer la importancia de cada característica desde el modelo\n",
        "feature_scores = xgb_classifier.feature_importances_\n",
        "\n",
        "# Crear un DataFrame para organizar y visualizar las importancias\n",
        "importance_df = (\n",
        "    pd.DataFrame({'Variable': X.columns, 'Ponderación': feature_scores})\n",
        "    .sort_values('Ponderación', ascending=True)  # ya ordenado para barh\n",
        "    .reset_index(drop=True)\n",
        ")\n",
        "\n",
        "print(\"Importancia de las variables en el modelo:\")\n",
        "print(importance_df)\n",
        "\n",
        "# Visualización de las importancias con estilo alternativo\n",
        "plt.figure(figsize=(8, 6))\n",
        "bars = plt.barh(\n",
        "    importance_df['Variable'],\n",
        "    importance_df['Ponderación'],\n",
        "    color=plt.cm.viridis(importance_df['Ponderación'] / max(importance_df['Ponderación']))\n",
        ")\n",
        "\n",
        "plt.xlabel(\"Ponderación\")\n",
        "plt.title(\"Ranking de Importancia de las Variables\")\n",
        "plt.grid(axis='x', linestyle='--', alpha=0.5)\n",
        "plt.tight_layout()\n",
        "plt.show()"
      ],
      "metadata": {
        "colab": {
          "base_uri": "https://localhost:8080/",
          "height": 991
        },
        "id": "CLWxTS8pQs-V",
        "outputId": "4517cbc2-67a1-460b-c979-2aa0c2553c7b"
      },
      "execution_count": 27,
      "outputs": [
        {
          "output_type": "stream",
          "name": "stdout",
          "text": [
            "Importancia de las variables en el modelo:\n",
            "                          Variable  Ponderación\n",
            "0            ESTU_PRIVADO_LIBERTAD     0.000000\n",
            "1                           coef_3     0.006788\n",
            "2                           coef_4     0.006826\n",
            "3                           coef_2     0.008144\n",
            "4              FAMI_TIENEAUTOMOVIL     0.008590\n",
            "5                           coef_1     0.019566\n",
            "6               FAMI_TIENELAVADORA     0.024862\n",
            "7             FAMI_TIENEINTERNET.1     0.027345\n",
            "8         ESTU_PAGOMATRICULAPROPIO     0.030280\n",
            "9                          PERIODO     0.032721\n",
            "10         ESTU_HORASSEMANATRABAJA     0.042426\n",
            "11          ESTU_PRGM_DEPARTAMENTO     0.042976\n",
            "12             FAMI_EDUCACIONPADRE     0.043406\n",
            "13              FAMI_TIENEINTERNET     0.049703\n",
            "14             FAMI_EDUCACIONMADRE     0.059106\n",
            "15            FAMI_TIENECOMPUTADOR     0.074995\n",
            "16  ESTU_VALORMATRICULAUNIVERSIDAD     0.119204\n",
            "17             ESTU_PRGM_ACADEMICO     0.153143\n",
            "18            FAMI_ESTRATOVIVIENDA     0.249919\n"
          ]
        },
        {
          "output_type": "display_data",
          "data": {
            "text/plain": [
              "<Figure size 800x600 with 1 Axes>"
            ],
            "image/png": "[encoded data removed]"
          },
          "metadata": {}
        }
      ]
    },
    {
      "cell_type": "markdown",
      "source": [
        "# **Predicción Kaggle**"
      ],
      "metadata": {
        "id": "UhzEH9TeDwhY"
      }
    },
    {
      "cell_type": "code",
      "source": [
        "# Copia del test limpio\n",
        "df_test = test_df2.copy()\n",
        "\n",
        "# Guardar los IDs\n",
        "ids = df_test[\"ID\"].copy()\n",
        "\n",
        "# Quitar columnas no necesarias\n",
        "df_test.drop(columns=[\"ID\", \"Unnamed: 0\"], axis=1, inplace=True, errors='ignore')\n",
        "\n",
        "# Predecir con el modelo\n",
        "predicciones = xgb_classifier.predict(df_test)\n",
        "\n",
        "# Crear DataFrame de resultados\n",
        "submission = pd.DataFrame({\n",
        "    \"ID\": ids,\n",
        "    \"RENDIMIENTO_GLOBAL\": predicciones\n",
        "})\n",
        "\n",
        "# Aplicar función para revertir los códigos, si existe\n",
        "if 'rendimientoglobalreverse' in globals():\n",
        "    submission = rendimientoglobalreverse(submission)\n",
        "\n",
        "# Mostrar las primeras filas\n",
        "print(submission.head())\n",
        "\n",
        "# Guardar como CSV\n",
        "submission.to_csv(\"submission.csv\", index=False)\n",
        "print(\"✅ Archivo submission.csv guardado correctamente.\")"
      ],
      "metadata": {
        "colab": {
          "base_uri": "https://localhost:8080/"
        },
        "id": "4vaeDSMmJph5",
        "outputId": "5b244628-4af4-487a-eaa6-d241c7c56202"
      },
      "execution_count": 30,
      "outputs": [
        {
          "output_type": "stream",
          "name": "stdout",
          "text": [
            "       ID RENDIMIENTO_GLOBAL\n",
            "0  550236               bajo\n",
            "1   98545         medio-alto\n",
            "2  499179               alto\n",
            "3  782980               bajo\n",
            "4  785185               bajo\n",
            "✅ Archivo submission.csv guardado correctamente.\n"
          ]
        }
      ]
    },
    {
      "cell_type": "code",
      "source": [
        "!kaggle competitions submit -c udea-ai-4-eng-20251-pruebas-saber-pro-colombia -f submission.csv -m \"Intento XGBOOST\"\n"
      ],
      "metadata": {
        "colab": {
          "base_uri": "https://localhost:8080/"
        },
        "id": "B4f3GTFhsV55",
        "outputId": "11ad2879-a942-4ef0-e478-9483ce1949df"
      },
      "execution_count": 31,
      "outputs": [
        {
          "output_type": "stream",
          "name": "stdout",
          "text": [
            "100% 4.05M/4.05M [00:00<00:00, 13.4MB/s]\n",
            "400 Client Error: Bad Request for url: https://www.kaggle.com/api/v1/competitions/submissions/submit/udea-ai-4-eng-20251-pruebas-saber-pro-colombia\n"
          ]
        }
      ]
    }
  ]
}